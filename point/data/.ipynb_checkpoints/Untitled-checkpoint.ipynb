{
 "cells": [
  {
   "cell_type": "code",
   "execution_count": 22,
   "metadata": {},
   "outputs": [
    {
     "name": "stdout",
     "output_type": "stream",
     "text": [
      "0         503\n",
      "1       27649\n",
      "2         790\n",
      "3       93283\n",
      "4      114957\n",
      "5       12767\n",
      "6       30108\n",
      "7        9502\n",
      "8       48219\n",
      "9       14740\n",
      "10       5915\n",
      "11      12938\n",
      "12      34279\n",
      "13          4\n",
      "14      33324\n",
      "15        433\n",
      "16      13388\n",
      "17        787\n",
      "18         26\n",
      "19      58885\n",
      "20      63915\n",
      "21      94201\n",
      "22       5848\n",
      "23         67\n",
      "24      28937\n",
      "25      28693\n",
      "26       1853\n",
      "27      12646\n",
      "28        900\n",
      "29      13469\n",
      "30      17884\n",
      "31         19\n",
      "33        610\n",
      "34      22080\n",
      "35          4\n",
      "36       5683\n",
      "38        462\n",
      "39      11027\n",
      "100     13761\n",
      "Name: proc_100_cor5, dtype: int64\n"
     ]
    }
   ],
   "source": [
    "import pandas as pd\n",
    "df = pd.read_csv('014_new.csv')\n",
    "# saved_column = df[\"comm0\"]\n",
    "data_values = df[\"comm0\"].value_counts()\n",
    "print(df[\"comm0\"].value_counts().sort_index())\n",
    "# df.to_csv(r'Path where you want to store the exported CSV file\\File Name.csv')\n",
    "data_values.to_csv(r'comm0_value_counts.csv')\n"
   ]
  }
 ],
 "metadata": {
  "kernelspec": {
   "display_name": "Python 3",
   "language": "python",
   "name": "python3"
  },
  "language_info": {
   "codemirror_mode": {
    "name": "ipython",
    "version": 3
   },
   "file_extension": ".py",
   "mimetype": "text/x-python",
   "name": "python",
   "nbconvert_exporter": "python",
   "pygments_lexer": "ipython3",
   "version": "3.7.1"
  }
 },
 "nbformat": 4,
 "nbformat_minor": 2
}
