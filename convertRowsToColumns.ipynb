{
 "cells": [
  {
   "cell_type": "code",
   "execution_count": 1,
   "metadata": {},
   "outputs": [],
   "source": [
    "#generating z values\n",
    "\n",
    "from scipy.interpolate import interp1d\n",
    "\n",
    "import xlutils\n",
    "import xlrd \n",
    "import sys\n",
    "\n",
    "m = interp1d([1,710],[141.8,-141.8])\n",
    "\n",
    "orig_stdout = sys.stdout\n",
    "# f = open('filtered_6005_out.csv', 'w')\n",
    "f = open('zvalue_141-8_to1.csv', 'w')\n",
    "sys.stdout = f\n",
    "\n",
    "# For row 0 and column 0 \n",
    "for i in range(1, 710):\n",
    "    for j in range(0, 40):\n",
    "        print(\"{:.1f}\".format(m(i)))\n",
    "          \n",
    "sys.stdout = orig_stdout\n",
    "f.close()"
   ]
  },
  {
   "cell_type": "code",
   "execution_count": 1,
   "metadata": {},
   "outputs": [],
   "source": [
    "# rows to columns\n",
    "\n",
    "import xlutils\n",
    "import xlrd \n",
    "import xlwt\n",
    "import sys\n",
    "\n",
    "# Give the location of the file \n",
    "loc = (\"invivofiltered.xlsx\") \n",
    "  \n",
    "# To open Workbook \n",
    "wb = xlrd.open_workbook(loc) \n",
    "sheet = wb.sheet_by_index(0) \n",
    "\n",
    "\n",
    "\n",
    "nrows = sheet.nrows\n",
    "ncols = sheet.ncols\n",
    "\n",
    "\n",
    "orig_stdout = sys.stdout\n",
    "f = open('invivofiltered_out.csv', 'w')\n",
    "sys.stdout = f\n",
    "\n",
    "# For row 0 and column 0 \n",
    "for i in range(1, 710):\n",
    "#     print(\"i = {}\".format(i))\n",
    "    for j in range(0, 40):\n",
    "#          print(\"j = {}\".format(j))\n",
    "#          sheet1.write(i, j, sheet.cell_value(i, j))\n",
    "       print(sheet.cell_value(i, j) )\n",
    "# book.save(\"valuforintensity.xlsx\")           \n",
    "\n",
    "sys.stdout = orig_stdout\n",
    "f.close()"
   ]
  },
  {
   "cell_type": "code",
   "execution_count": 1,
   "metadata": {},
   "outputs": [],
   "source": [
    "# timeframe\n",
    "\n",
    "import xlutils\n",
    "import xlrd \n",
    "import sys\n",
    "\n",
    "orig_stdout = sys.stdout\n",
    "# # f = open('filtered_6005_out.csv', 'w')\n",
    "f = open('timeframe_now.csv', 'w')\n",
    "sys.stdout = f\n",
    "\n",
    "# For row 0 and column 0 \n",
    "for i in range(1, 710):\n",
    "    for j in range(0, 40):\n",
    "        print((i))\n",
    "          \n",
    "sys.stdout = orig_stdout\n",
    "f.close()\n"
   ]
  }
 ],
 "metadata": {
  "kernelspec": {
   "display_name": "Python 3",
   "language": "python",
   "name": "python3"
  },
  "language_info": {
   "codemirror_mode": {
    "name": "ipython",
    "version": 3
   },
   "file_extension": ".py",
   "mimetype": "text/x-python",
   "name": "python",
   "nbconvert_exporter": "python",
   "pygments_lexer": "ipython3",
   "version": "3.7.1"
  }
 },
 "nbformat": 4,
 "nbformat_minor": 2
}
